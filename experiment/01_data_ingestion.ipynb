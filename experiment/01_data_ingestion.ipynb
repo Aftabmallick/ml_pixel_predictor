{
 "cells": [
  {
   "cell_type": "code",
   "execution_count": 1,
   "metadata": {},
   "outputs": [],
   "source": [
    "import os\n",
    "os.chdir(\"../\")"
   ]
  },
  {
   "cell_type": "code",
   "execution_count": 2,
   "metadata": {},
   "outputs": [],
   "source": [
    "from dataclasses import dataclass\n",
    "from pathlib import Path\n",
    "\n",
    "@dataclass(frozen=True)\n",
    "class DataIngestionConfig:\n",
    "    root_dir: Path\n",
    "    local_data_file: Path\n"
   ]
  },
  {
   "cell_type": "code",
   "execution_count": 3,
   "metadata": {},
   "outputs": [],
   "source": [
    "from src.pixel_predictor.constants import *\n",
    "from src.pixel_predictor.utils.common import read_yaml, create_directories"
   ]
  },
  {
   "cell_type": "code",
   "execution_count": 4,
   "metadata": {},
   "outputs": [],
   "source": [
    "class ConfigurationManager:\n",
    "    def __init__(\n",
    "            self,\n",
    "            config_filepath = CONFIG_FILE_PATH,\n",
    "            params_filepath = PARAMS_FILE_PATH,\n",
    "                 ):\n",
    "            self.config = read_yaml(config_filepath)\n",
    "            self.params = read_yaml(params_filepath)\n",
    "\n",
    "            create_directories([self.config.artifacts_root])\n",
    "\n",
    "    def get_data_ingestion_config(self) -> DataIngestionConfig:\n",
    "          config = self.config.data_ingestion\n",
    "\n",
    "          create_directories([config.root_dir])\n",
    "\n",
    "          data_ingestion_config = DataIngestionConfig(\n",
    "                root_dir = config.root_dir,    \n",
    "                local_data_file = config.local_data_file,\n",
    "          )\n",
    "          return data_ingestion_config"
   ]
  },
  {
   "cell_type": "code",
   "execution_count": 5,
   "metadata": {},
   "outputs": [],
   "source": [
    "from pixel_predictor import logger"
   ]
  },
  {
   "cell_type": "code",
   "execution_count": 6,
   "metadata": {},
   "outputs": [],
   "source": [
    "import numpy as np\n",
    "class DataIngestion:\n",
    "    def __init__(self, config: DataIngestionConfig):\n",
    "        self.config = config\n",
    "\n",
    "    \n",
    "    def create_file(self,num_images=10000)-> str:\n",
    "        '''\n",
    "        This will create files\n",
    "        data_file_path:str\n",
    "        make zip from created files and store \n",
    "        '''\n",
    "        try:\n",
    "            images = []\n",
    "            labels = []\n",
    "            for _ in range(num_images):\n",
    "                image = np.zeros((50, 50), dtype=np.float32)\n",
    "                x, y = np.random.randint(0, 50, size=2)\n",
    "                image[x, y] = 255\n",
    "                images.append(image)\n",
    "                labels.append([x, y])\n",
    "            data_file_path = self.config.local_data_file\n",
    "           # os.makedirs(data_file_path,exist_ok=True)\n",
    "            np.savez_compressed(data_file_path,X=np.array(images), y=np.array(labels))\n",
    "            logger.info(f\"Created image data and stored into file {data_file_path}\")\n",
    "\n",
    "        except Exception as e:\n",
    "            raise e"
   ]
  },
  {
   "cell_type": "code",
   "execution_count": 11,
   "metadata": {},
   "outputs": [
    {
     "name": "stdout",
     "output_type": "stream",
     "text": [
      "[2024-05-21 16:20:24,519: INFO: common: yaml file: config\\config.yaml loaded successfully]\n",
      "[2024-05-21 16:20:24,521: INFO: common: yaml file: params.yaml loaded successfully]\n",
      "[2024-05-21 16:20:24,522: INFO: common: created directory at: artifacts]\n",
      "[2024-05-21 16:20:24,523: INFO: common: created directory at: artifacts/data_ingestion]\n",
      "[2024-05-21 16:20:24,616: INFO: 114488486: Created image data and stored into file artifacts/data_ingestion/data.npz]\n"
     ]
    }
   ],
   "source": [
    "try:\n",
    "    config = ConfigurationManager()\n",
    "    data_ingestion_config = config.get_data_ingestion_config()\n",
    "    data_ingestion = DataIngestion(config=data_ingestion_config)\n",
    "    data_ingestion.create_file(num_images=1000)\n",
    "except Exception as e:\n",
    "    raise e"
   ]
  },
  {
   "cell_type": "code",
   "execution_count": null,
   "metadata": {},
   "outputs": [],
   "source": []
  }
 ],
 "metadata": {
  "kernelspec": {
   "display_name": "env",
   "language": "python",
   "name": "python3"
  },
  "language_info": {
   "codemirror_mode": {
    "name": "ipython",
    "version": 3
   },
   "file_extension": ".py",
   "mimetype": "text/x-python",
   "name": "python",
   "nbconvert_exporter": "python",
   "pygments_lexer": "ipython3",
   "version": "3.10.0"
  }
 },
 "nbformat": 4,
 "nbformat_minor": 2
}
