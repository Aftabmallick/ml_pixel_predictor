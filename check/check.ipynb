{
 "cells": [
  {
   "cell_type": "code",
   "execution_count": 1,
   "metadata": {},
   "outputs": [],
   "source": [
    "import numpy as np\n",
    "from tensorflow.keras.models import load_model\n",
    "from tensorflow.keras.preprocessing import image\n",
    "import os"
   ]
  },
  {
   "cell_type": "code",
   "execution_count": 2,
   "metadata": {},
   "outputs": [],
   "source": [
    "os.chdir(\"../\")"
   ]
  },
  {
   "cell_type": "code",
   "execution_count": 3,
   "metadata": {},
   "outputs": [
    {
     "name": "stderr",
     "output_type": "stream",
     "text": [
      "WARNING:absl:Compiled the loaded model, but the compiled metrics have yet to be built. `model.compile_metrics` will be empty until you train or evaluate the model.\n"
     ]
    }
   ],
   "source": [
    "model = load_model(os.path.join(\"artifacts/training\",\"model.h5\"))"
   ]
  },
  {
   "cell_type": "code",
   "execution_count": 5,
   "metadata": {},
   "outputs": [],
   "source": [
    "from sklearn.model_selection import train_test_split\n",
    "\n",
    "\n",
    "data = np.load('artifacts\\data_ingestion\\data.npz')\n",
    "X, y = data['X'], data['y']\n",
    "X = X.reshape((X.shape[0], 50, 50, 1))\n",
    "X_train, X_val, y_train, y_val = train_test_split(X, y, test_size=0.2, random_state=42)"
   ]
  },
  {
   "cell_type": "code",
   "execution_count": 17,
   "metadata": {},
   "outputs": [
    {
     "data": {
      "text/plain": [
       "array([ 2, 14])"
      ]
     },
     "execution_count": 17,
     "metadata": {},
     "output_type": "execute_result"
    }
   ],
   "source": [
    "y_val[5]"
   ]
  },
  {
   "cell_type": "code",
   "execution_count": 13,
   "metadata": {},
   "outputs": [
    {
     "name": "stdout",
     "output_type": "stream",
     "text": [
      "\u001b[1m63/63\u001b[0m \u001b[32m━━━━━━━━━━━━━━━━━━━━\u001b[0m\u001b[37m\u001b[0m \u001b[1m1s\u001b[0m 21ms/step\n"
     ]
    }
   ],
   "source": [
    "z=model.predict(X_val)"
   ]
  },
  {
   "cell_type": "code",
   "execution_count": 20,
   "metadata": {},
   "outputs": [
    {
     "data": {
      "text/plain": [
       "array([ 2.316767, 13.522571], dtype=float32)"
      ]
     },
     "execution_count": 20,
     "metadata": {},
     "output_type": "execute_result"
    }
   ],
   "source": [
    "z[5]"
   ]
  },
  {
   "cell_type": "code",
   "execution_count": 16,
   "metadata": {},
   "outputs": [
    {
     "name": "stdout",
     "output_type": "stream",
     "text": [
      "\u001b[1m63/63\u001b[0m \u001b[32m━━━━━━━━━━━━━━━━━━━━\u001b[0m\u001b[37m\u001b[0m \u001b[1m3s\u001b[0m 42ms/step - loss: 4.5658\n",
      "Test loss (Mean Squared Error): 4.364792346954346\n"
     ]
    }
   ],
   "source": [
    "test_loss = model.evaluate(X_val, y_val)\n",
    "print(f'Test loss (Mean Squared Error): {test_loss}')"
   ]
  },
  {
   "cell_type": "code",
   "execution_count": 21,
   "metadata": {},
   "outputs": [
    {
     "name": "stdout",
     "output_type": "stream",
     "text": [
      "Images and labels saved to 'testimage'\n"
     ]
    }
   ],
   "source": [
    "import numpy as np\n",
    "import os\n",
    "from PIL import Image\n",
    "\n",
    "# Configuration\n",
    "num_images = 10  # Set this to your desired number of images\n",
    "output_folder = 'testimage'\n",
    "label_file = os.path.join(output_folder, 'labels.txt')\n",
    "\n",
    "# Create the output folder if it doesn't exist\n",
    "os.makedirs(output_folder, exist_ok=True)\n",
    "\n",
    "# Generate images and labels\n",
    "images = []\n",
    "labels = []\n",
    "for i in range(num_images):\n",
    "    image = np.zeros((50, 50), dtype=np.float32)\n",
    "    x, y = np.random.randint(0, 50, size=2)\n",
    "    image[x, y] = 255\n",
    "    images.append(image)\n",
    "    labels.append([x, y])\n",
    "\n",
    "    # Save each image as a file\n",
    "    image_path = os.path.join(output_folder, f'image_{i}.png')\n",
    "    pil_image = Image.fromarray(image)\n",
    "    pil_image = pil_image.convert(\"L\")  # Convert to grayscale\n",
    "    pil_image.save(image_path)\n",
    "\n",
    "# Save labels to a text file\n",
    "with open(label_file, 'w') as f:\n",
    "    for label in labels:\n",
    "        f.write(f'{label[0]},{label[1]}\\n')\n",
    "\n",
    "print(f\"Images and labels saved to '{output_folder}'\")\n"
   ]
  },
  {
   "cell_type": "code",
   "execution_count": 22,
   "metadata": {},
   "outputs": [
    {
     "name": "stdout",
     "output_type": "stream",
     "text": [
      "Loaded 10 images and 10 labels.\n"
     ]
    }
   ],
   "source": [
    "import numpy as np\n",
    "import os\n",
    "from PIL import Image\n",
    "\n",
    "# Configuration\n",
    "output_folder = 'testimage'\n",
    "label_file = os.path.join(output_folder, 'labels.txt')\n",
    "\n",
    "# Load labels\n",
    "y_test = []\n",
    "with open(label_file, 'r') as f:\n",
    "    for line in f:\n",
    "        x, y = map(int, line.strip().split(','))\n",
    "        y_test.append([x, y])\n",
    "\n",
    "# Convert labels to a numpy array\n",
    "y_test = np.array(y_test)\n",
    "\n",
    "# Load images\n",
    "image_files = sorted([f for f in os.listdir(output_folder) if f.endswith('.png')])\n",
    "X_test = []\n",
    "for image_file in image_files:\n",
    "    image_path = os.path.join(output_folder, image_file)\n",
    "    image = Image.open(image_path)\n",
    "    image = np.array(image)\n",
    "    X_test.append(image)\n",
    "\n",
    "# Convert images to a numpy array\n",
    "X_test = np.array(X_test)\n",
    "\n",
    "print(f\"Loaded {len(X_test)} images and {len(y_test)} labels.\")\n"
   ]
  },
  {
   "cell_type": "code",
   "execution_count": 32,
   "metadata": {},
   "outputs": [
    {
     "data": {
      "text/plain": [
       "(50, 50)"
      ]
     },
     "execution_count": 32,
     "metadata": {},
     "output_type": "execute_result"
    }
   ],
   "source": [
    "X_test[0].shape"
   ]
  },
  {
   "cell_type": "code",
   "execution_count": 23,
   "metadata": {},
   "outputs": [
    {
     "name": "stdout",
     "output_type": "stream",
     "text": [
      "\u001b[1m1/1\u001b[0m \u001b[32m━━━━━━━━━━━━━━━━━━━━\u001b[0m\u001b[37m\u001b[0m \u001b[1m1s\u001b[0m 635ms/step\n"
     ]
    }
   ],
   "source": [
    "y_pred = model.predict(X_test)"
   ]
  },
  {
   "cell_type": "code",
   "execution_count": 24,
   "metadata": {},
   "outputs": [
    {
     "data": {
      "text/plain": [
       "array([[ 2.6746733, 21.292412 ],\n",
       "       [39.47131  , 17.465746 ],\n",
       "       [36.362133 , 20.786829 ],\n",
       "       [48.106598 , 34.462624 ],\n",
       "       [44.307014 , 49.803215 ],\n",
       "       [47.632896 , 31.369806 ],\n",
       "       [24.07767  ,  3.4519088],\n",
       "       [ 4.9698944, 37.461727 ],\n",
       "       [36.918995 , 19.502974 ],\n",
       "       [ 1.000895 , 44.091095 ]], dtype=float32)"
      ]
     },
     "execution_count": 24,
     "metadata": {},
     "output_type": "execute_result"
    }
   ],
   "source": [
    "y_pred"
   ]
  },
  {
   "cell_type": "code",
   "execution_count": 25,
   "metadata": {},
   "outputs": [
    {
     "data": {
      "text/plain": [
       "array([[ 2, 20],\n",
       "       [38, 19],\n",
       "       [36, 22],\n",
       "       [48, 34],\n",
       "       [45, 49],\n",
       "       [44, 29],\n",
       "       [24,  3],\n",
       "       [ 5, 38],\n",
       "       [34, 18],\n",
       "       [ 1, 44]])"
      ]
     },
     "execution_count": 25,
     "metadata": {},
     "output_type": "execute_result"
    }
   ],
   "source": [
    "y_test"
   ]
  },
  {
   "cell_type": "code",
   "execution_count": 35,
   "metadata": {},
   "outputs": [
    {
     "name": "stdout",
     "output_type": "stream",
     "text": [
      "(1, 50, 50)\n"
     ]
    }
   ],
   "source": [
    "import cv2\n",
    "def preprocess_image(image_path, target_size=(50, 50)):\n",
    "    # Read the image\n",
    "    image = cv2.imread(image_path)\n",
    "    \n",
    "    # Resize the image\n",
    "    image = cv2.resize(image, target_size)\n",
    "    \n",
    "    # Convert the image to grayscale if it's not already\n",
    "    if len(image.shape) > 2 and image.shape[2] > 1:\n",
    "        image = cv2.cvtColor(image, cv2.COLOR_BGR2GRAY)\n",
    "    \n",
    "    # Ensure the image has the correct shape\n",
    "    if len(image.shape) == 2:  # If grayscale\n",
    "        image = image.reshape((1,)+image.shape)\n",
    "    \n",
    "    return image\n",
    "print(preprocess_image('testimage\\image_0.png').shape)"
   ]
  },
  {
   "cell_type": "code",
   "execution_count": 36,
   "metadata": {},
   "outputs": [
    {
     "name": "stdout",
     "output_type": "stream",
     "text": [
      "\u001b[1m1/1\u001b[0m \u001b[32m━━━━━━━━━━━━━━━━━━━━\u001b[0m\u001b[37m\u001b[0m \u001b[1m0s\u001b[0m 258ms/step\n",
      "[[ 2.6746807 21.29241  ]]\n"
     ]
    }
   ],
   "source": [
    "print(model.predict([preprocess_image('testimage\\image_0.png')]))"
   ]
  },
  {
   "cell_type": "code",
   "execution_count": 42,
   "metadata": {},
   "outputs": [
    {
     "name": "stdout",
     "output_type": "stream",
     "text": [
      "\u001b[1m1/1\u001b[0m \u001b[32m━━━━━━━━━━━━━━━━━━━━\u001b[0m\u001b[37m\u001b[0m \u001b[1m0s\u001b[0m 51ms/step\n"
     ]
    }
   ],
   "source": [
    "result = model.predict([preprocess_image('testimage\\image_0.png')])"
   ]
  },
  {
   "cell_type": "code",
   "execution_count": 43,
   "metadata": {},
   "outputs": [],
   "source": [
    "r = str(int(result[0][0]))+\" , \"+str(int(result[0][1]))"
   ]
  },
  {
   "cell_type": "code",
   "execution_count": 44,
   "metadata": {},
   "outputs": [
    {
     "data": {
      "text/plain": [
       "'2 , 21'"
      ]
     },
     "execution_count": 44,
     "metadata": {},
     "output_type": "execute_result"
    }
   ],
   "source": [
    "r"
   ]
  },
  {
   "cell_type": "code",
   "execution_count": null,
   "metadata": {},
   "outputs": [],
   "source": []
  }
 ],
 "metadata": {
  "kernelspec": {
   "display_name": "env",
   "language": "python",
   "name": "python3"
  },
  "language_info": {
   "codemirror_mode": {
    "name": "ipython",
    "version": 3
   },
   "file_extension": ".py",
   "mimetype": "text/x-python",
   "name": "python",
   "nbconvert_exporter": "python",
   "pygments_lexer": "ipython3",
   "version": "3.10.0"
  }
 },
 "nbformat": 4,
 "nbformat_minor": 2
}
